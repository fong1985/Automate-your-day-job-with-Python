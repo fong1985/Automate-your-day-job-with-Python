{
 "cells": [
  {
   "cell_type": "markdown",
   "id": "cb28d054-4d29-4af4-afdc-ea4859a00b5f",
   "metadata": {},
   "source": [
    "# PyBank"
   ]
  },
  {
   "cell_type": "code",
   "execution_count": 1,
   "id": "58620dc7-8903-4905-b4aa-77670dd2922b",
   "metadata": {},
   "outputs": [],
   "source": [
    "#Import Path library\n",
    "from pathlib import Path\n",
    "import csv"
   ]
  },
  {
   "cell_type": "code",
   "execution_count": 2,
   "id": "52a276d8-05af-4ab1-973a-16726a4e3124",
   "metadata": {},
   "outputs": [],
   "source": [
    "#Define CSV path\n",
    "csvpath = Path('budget_data.csv')"
   ]
  },
  {
   "cell_type": "code",
   "execution_count": 3,
   "id": "4f2c2ff4-80bc-4f21-ac21-0461e1b155e9",
   "metadata": {},
   "outputs": [],
   "source": [
    "#Initialise variables\n",
    "month_count = 0\n",
    "PNL = 0\n",
    "total_PNL = 0\n",
    "average_change = 0\n",
    "max_profit = 0\n",
    "max_loss = 0"
   ]
  },
  {
   "cell_type": "code",
   "execution_count": 7,
   "id": "7199cb1f-f372-4139-8e9b-773ee96978c9",
   "metadata": {},
   "outputs": [
    {
     "name": "stdout",
     "output_type": "stream",
     "text": [
      "Financial Analysis\n",
      "---------------------------\n",
      "Total Months: 86\n",
      "Total: $ 38382664\n",
      "Average Change: $ 446310.0\n",
      "Greatest Increase in Profits: ( $ 1170594 )\n",
      "Greatest Decrease in Profits: ( $ -1196224 )\n"
     ]
    }
   ],
   "source": [
    "#Pass in csv file to the csv.reader function\n",
    "with open(csvpath,'r') as csvfile:\n",
    "    csvreader = csv.reader(csvfile, delimiter=',')\n",
    "    csv_header = next(csvreader)\n",
    "#Calculate Total Months, Total P&L, average P&L, max proits and max losses\n",
    "    for row in csvreader:\n",
    "        month_count = month_count + 1\n",
    "        PNL = int(row[1])\n",
    "        PNL = PNL +1\n",
    "        total_PNL = total_PNL + PNL\n",
    "        if max_profit == 0:\n",
    "            max_profit = PNL\n",
    "        elif PNL > max_profit:\n",
    "            max_profit = PNL\n",
    "        elif PNL < max_loss:\n",
    "            max_loss = PNL\n",
    "    average_change = round(total_PNL / month_count,0)\n",
    "    print(\"Financial Analysis\")\n",
    "    print(\"---------------------------\")\n",
    "    print(f\"Total Months:\", month_count) \n",
    "    print(f\"Total:\", \"$\",total_PNL)\n",
    "    print(f\"Average Change:\", \"$\", average_change)\n",
    "    print(f\"Greatest Increase in Profits:\",\"(\",\"$\",max_profit,\")\")\n",
    "    print(f\"Greatest Decrease in Profits:\",\"(\",\"$\",max_loss,\")\")\n",
    "    \n"
   ]
  },
  {
   "cell_type": "code",
   "execution_count": 17,
   "id": "d7816207-36a6-4287-9040-7a4c0f98027a",
   "metadata": {},
   "outputs": [
    {
     "ename": "TypeError",
     "evalue": "write() argument must be str, not tuple",
     "output_type": "error",
     "traceback": [
      "\u001b[1;31m---------------------------------------------------------------------------\u001b[0m",
      "\u001b[1;31mTypeError\u001b[0m                                 Traceback (most recent call last)",
      "\u001b[1;32m<ipython-input-17-c1ac475f6e76>\u001b[0m in \u001b[0;36m<module>\u001b[1;34m\u001b[0m\n\u001b[0;32m      6\u001b[0m \u001b[0mf\u001b[0m\u001b[1;33m.\u001b[0m\u001b[0mwrite\u001b[0m\u001b[1;33m(\u001b[0m\u001b[1;34m\"Financial Analysis\"\u001b[0m\u001b[1;33m)\u001b[0m\u001b[1;33m\u001b[0m\u001b[1;33m\u001b[0m\u001b[0m\n\u001b[0;32m      7\u001b[0m \u001b[0mf\u001b[0m\u001b[1;33m.\u001b[0m\u001b[0mwrite\u001b[0m\u001b[1;33m(\u001b[0m\u001b[1;34m\"---------------------------\"\u001b[0m\u001b[1;33m)\u001b[0m\u001b[1;33m\u001b[0m\u001b[1;33m\u001b[0m\u001b[0m\n\u001b[1;32m----> 8\u001b[1;33m \u001b[0mf\u001b[0m\u001b[1;33m.\u001b[0m\u001b[0mwrite\u001b[0m\u001b[1;33m(\u001b[0m\u001b[0mmonths\u001b[0m\u001b[1;33m)\u001b[0m\u001b[1;33m\u001b[0m\u001b[1;33m\u001b[0m\u001b[0m\n\u001b[0m\u001b[0;32m      9\u001b[0m \u001b[0mf\u001b[0m\u001b[1;33m.\u001b[0m\u001b[0mwrite\u001b[0m\u001b[1;33m(\u001b[0m\u001b[0mchange\u001b[0m\u001b[1;33m)\u001b[0m\u001b[1;33m\u001b[0m\u001b[1;33m\u001b[0m\u001b[0m\n\u001b[0;32m     10\u001b[0m \u001b[0mf\u001b[0m\u001b[1;33m.\u001b[0m\u001b[0mwrite\u001b[0m\u001b[1;33m(\u001b[0m\u001b[0mincrease\u001b[0m\u001b[1;33m)\u001b[0m\u001b[1;33m\u001b[0m\u001b[1;33m\u001b[0m\u001b[0m\n",
      "\u001b[1;31mTypeError\u001b[0m: write() argument must be str, not tuple"
     ]
    }
   ],
   "source": [
    "months = (\"Total Months:\", month_count)\n",
    "change = (\"Average Change:\", \"$\", average_change)\n",
    "increase = (\"Greatest Increase in Profits:\",\"(\",\"$\",max_profit,\")\")\n",
    "decrease = \"Greatest Decrease in Profits:\",\"(\",\"$\",max_loss,\")\"\n",
    "file_object = open('PyBank.txt', \"w\")\n",
    "\n",
    "f.write(\"Financial Analysis\") \n",
    "f.write(\"---------------------------\")\n",
    "f.write(months)\n",
    "f.write(change)\n",
    "f.write(increase)\n",
    "f.write(decrease)"
   ]
  },
  {
   "cell_type": "code",
   "execution_count": null,
   "id": "e46496da-45f3-4205-8153-d0768a83c705",
   "metadata": {},
   "outputs": [],
   "source": []
  }
 ],
 "metadata": {
  "kernelspec": {
   "display_name": "Python 3",
   "language": "python",
   "name": "python3"
  },
  "language_info": {
   "codemirror_mode": {
    "name": "ipython",
    "version": 3
   },
   "file_extension": ".py",
   "mimetype": "text/x-python",
   "name": "python",
   "nbconvert_exporter": "python",
   "pygments_lexer": "ipython3",
   "version": "3.8.8"
  }
 },
 "nbformat": 4,
 "nbformat_minor": 5
}
